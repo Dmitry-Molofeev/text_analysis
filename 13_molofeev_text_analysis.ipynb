{
 "cells": [
  {
   "cell_type": "markdown",
   "metadata": {
    "toc": true
   },
   "source": [
    "<h1>Содержание<span class=\"tocSkip\"></span></h1>\n",
    "<div class=\"toc\"><ul class=\"toc-item\"><li><span><a href=\"#Подготовка\" data-toc-modified-id=\"Подготовка-1\"><span class=\"toc-item-num\">1&nbsp;&nbsp;</span>Подготовка</a></span></li><li><span><a href=\"#Обучение\" data-toc-modified-id=\"Обучение-2\"><span class=\"toc-item-num\">2&nbsp;&nbsp;</span>Обучение</a></span></li><li><span><a href=\"#Выводы\" data-toc-modified-id=\"Выводы-3\"><span class=\"toc-item-num\">3&nbsp;&nbsp;</span>Выводы</a></span></li><li><span><a href=\"#Чек-лист-проверки\" data-toc-modified-id=\"Чек-лист-проверки-4\"><span class=\"toc-item-num\">4&nbsp;&nbsp;</span>Чек-лист проверки</a></span></li></ul></div>"
   ]
  },
  {
   "cell_type": "markdown",
   "metadata": {},
   "source": [
    "# Проект для «Викишоп»"
   ]
  },
  {
   "cell_type": "markdown",
   "metadata": {},
   "source": [
    "Интернет-магазин «Викишоп» запускает новый сервис. Теперь пользователи могут редактировать и дополнять описания товаров, как в вики-сообществах. То есть клиенты предлагают свои правки и комментируют изменения других. Магазину нужен инструмент, который будет искать токсичные комментарии и отправлять их на модерацию. \n",
    "\n",
    "Обучите модель классифицировать комментарии на позитивные и негативные. В вашем распоряжении набор данных с разметкой о токсичности правок.\n",
    "\n",
    "Постройте модель со значением метрики качества *F1* не меньше 0.75. \n",
    "\n",
    "**Инструкция по выполнению проекта**\n",
    "\n",
    "1. Загрузите и подготовьте данные.\n",
    "2. Обучите разные модели. \n",
    "3. Сделайте выводы.\n",
    "\n",
    "Для выполнения проекта применять *BERT* необязательно, но вы можете попробовать.\n",
    "\n",
    "**Описание данных**\n",
    "\n",
    "Данные находятся в файле `toxic_comments.csv`. Столбец *text* в нём содержит текст комментария, а *toxic* — целевой признак."
   ]
  },
  {
   "cell_type": "markdown",
   "metadata": {},
   "source": [
    "**Цель проекта:**\n",
    "\n",
    "Обучить модель кассификации комментариев на позитивные и негативные со значением метрики *F1* не менее 0,75. "
   ]
  },
  {
   "cell_type": "markdown",
   "metadata": {},
   "source": [
    "## Подготовка"
   ]
  },
  {
   "cell_type": "markdown",
   "metadata": {},
   "source": [
    "Первоначально загрузим необходимые нам в работе библиотеки."
   ]
  },
  {
   "cell_type": "code",
   "execution_count": 1,
   "metadata": {},
   "outputs": [],
   "source": [
    "import matplotlib.pyplot as plt\n",
    "import numpy as np\n",
    "import pandas as pd\n",
    "import re\n",
    "import spacy\n",
    "import nltk\n",
    "from nltk.corpus import stopwords\n",
    "from sklearn.feature_extraction.text import TfidfVectorizer, CountVectorizer\n",
    "from sklearn.model_selection import train_test_split, cross_val_score, GridSearchCV\n",
    "from sklearn.linear_model import LogisticRegression, SGDClassifier\n",
    "from sklearn.tree import DecisionTreeClassifier\n",
    "from sklearn.metrics import f1_score, precision_score, recall_score, accuracy_score, roc_auc_score, roc_curve\n",
    "from sklearn.utils import shuffle\n",
    "import warnings\n",
    "from tqdm import tqdm\n",
    "\n",
    "warnings.filterwarnings('ignore')"
   ]
  },
  {
   "cell_type": "markdown",
   "metadata": {},
   "source": [
    "Теперь загрузим датасет и взглянем на общие данные."
   ]
  },
  {
   "cell_type": "code",
   "execution_count": 2,
   "metadata": {},
   "outputs": [
    {
     "name": "stdout",
     "output_type": "stream",
     "text": [
      "<class 'pandas.core.frame.DataFrame'>\n",
      "RangeIndex: 159292 entries, 0 to 159291\n",
      "Data columns (total 3 columns):\n",
      " #   Column      Non-Null Count   Dtype \n",
      "---  ------      --------------   ----- \n",
      " 0   Unnamed: 0  159292 non-null  int64 \n",
      " 1   text        159292 non-null  object\n",
      " 2   toxic       159292 non-null  int64 \n",
      "dtypes: int64(2), object(1)\n",
      "memory usage: 3.6+ MB\n"
     ]
    },
    {
     "data": {
      "text/plain": [
       "None"
      ]
     },
     "metadata": {},
     "output_type": "display_data"
    },
    {
     "data": {
      "text/html": [
       "<div>\n",
       "<style scoped>\n",
       "    .dataframe tbody tr th:only-of-type {\n",
       "        vertical-align: middle;\n",
       "    }\n",
       "\n",
       "    .dataframe tbody tr th {\n",
       "        vertical-align: top;\n",
       "    }\n",
       "\n",
       "    .dataframe thead th {\n",
       "        text-align: right;\n",
       "    }\n",
       "</style>\n",
       "<table border=\"1\" class=\"dataframe\">\n",
       "  <thead>\n",
       "    <tr style=\"text-align: right;\">\n",
       "      <th></th>\n",
       "      <th>Unnamed: 0</th>\n",
       "      <th>toxic</th>\n",
       "    </tr>\n",
       "  </thead>\n",
       "  <tbody>\n",
       "    <tr>\n",
       "      <th>count</th>\n",
       "      <td>159292.000000</td>\n",
       "      <td>159292.000000</td>\n",
       "    </tr>\n",
       "    <tr>\n",
       "      <th>mean</th>\n",
       "      <td>79725.697242</td>\n",
       "      <td>0.101612</td>\n",
       "    </tr>\n",
       "    <tr>\n",
       "      <th>std</th>\n",
       "      <td>46028.837471</td>\n",
       "      <td>0.302139</td>\n",
       "    </tr>\n",
       "    <tr>\n",
       "      <th>min</th>\n",
       "      <td>0.000000</td>\n",
       "      <td>0.000000</td>\n",
       "    </tr>\n",
       "    <tr>\n",
       "      <th>25%</th>\n",
       "      <td>39872.750000</td>\n",
       "      <td>0.000000</td>\n",
       "    </tr>\n",
       "    <tr>\n",
       "      <th>50%</th>\n",
       "      <td>79721.500000</td>\n",
       "      <td>0.000000</td>\n",
       "    </tr>\n",
       "    <tr>\n",
       "      <th>75%</th>\n",
       "      <td>119573.250000</td>\n",
       "      <td>0.000000</td>\n",
       "    </tr>\n",
       "    <tr>\n",
       "      <th>max</th>\n",
       "      <td>159450.000000</td>\n",
       "      <td>1.000000</td>\n",
       "    </tr>\n",
       "  </tbody>\n",
       "</table>\n",
       "</div>"
      ],
      "text/plain": [
       "          Unnamed: 0          toxic\n",
       "count  159292.000000  159292.000000\n",
       "mean    79725.697242       0.101612\n",
       "std     46028.837471       0.302139\n",
       "min         0.000000       0.000000\n",
       "25%     39872.750000       0.000000\n",
       "50%     79721.500000       0.000000\n",
       "75%    119573.250000       0.000000\n",
       "max    159450.000000       1.000000"
      ]
     },
     "metadata": {},
     "output_type": "display_data"
    },
    {
     "data": {
      "text/html": [
       "<div>\n",
       "<style scoped>\n",
       "    .dataframe tbody tr th:only-of-type {\n",
       "        vertical-align: middle;\n",
       "    }\n",
       "\n",
       "    .dataframe tbody tr th {\n",
       "        vertical-align: top;\n",
       "    }\n",
       "\n",
       "    .dataframe thead th {\n",
       "        text-align: right;\n",
       "    }\n",
       "</style>\n",
       "<table border=\"1\" class=\"dataframe\">\n",
       "  <thead>\n",
       "    <tr style=\"text-align: right;\">\n",
       "      <th></th>\n",
       "      <th>Unnamed: 0</th>\n",
       "      <th>text</th>\n",
       "      <th>toxic</th>\n",
       "    </tr>\n",
       "  </thead>\n",
       "  <tbody>\n",
       "    <tr>\n",
       "      <th>0</th>\n",
       "      <td>0</td>\n",
       "      <td>Explanation\\nWhy the edits made under my usern...</td>\n",
       "      <td>0</td>\n",
       "    </tr>\n",
       "    <tr>\n",
       "      <th>1</th>\n",
       "      <td>1</td>\n",
       "      <td>D'aww! He matches this background colour I'm s...</td>\n",
       "      <td>0</td>\n",
       "    </tr>\n",
       "    <tr>\n",
       "      <th>2</th>\n",
       "      <td>2</td>\n",
       "      <td>Hey man, I'm really not trying to edit war. It...</td>\n",
       "      <td>0</td>\n",
       "    </tr>\n",
       "    <tr>\n",
       "      <th>3</th>\n",
       "      <td>3</td>\n",
       "      <td>\"\\nMore\\nI can't make any real suggestions on ...</td>\n",
       "      <td>0</td>\n",
       "    </tr>\n",
       "    <tr>\n",
       "      <th>4</th>\n",
       "      <td>4</td>\n",
       "      <td>You, sir, are my hero. Any chance you remember...</td>\n",
       "      <td>0</td>\n",
       "    </tr>\n",
       "  </tbody>\n",
       "</table>\n",
       "</div>"
      ],
      "text/plain": [
       "   Unnamed: 0                                               text  toxic\n",
       "0           0  Explanation\\nWhy the edits made under my usern...      0\n",
       "1           1  D'aww! He matches this background colour I'm s...      0\n",
       "2           2  Hey man, I'm really not trying to edit war. It...      0\n",
       "3           3  \"\\nMore\\nI can't make any real suggestions on ...      0\n",
       "4           4  You, sir, are my hero. Any chance you remember...      0"
      ]
     },
     "execution_count": 2,
     "metadata": {},
     "output_type": "execute_result"
    }
   ],
   "source": [
    "try:\n",
    "    df = pd.read_csv('https://code.s3.yandex.net/datasets/toxic_comments.csv')\n",
    "except:\n",
    "    df = pd.read_csv('D:/learn_data/toxic_comments.csv')\n",
    "\n",
    "display(df.info())\n",
    "display(df.describe())\n",
    "df.head()"
   ]
  },
  {
   "cell_type": "markdown",
   "metadata": {},
   "source": [
    "Как мы видим, в датасете содержится 159292 комментария с указанием о его позитивности или негативности. При этом целевой признак содержится в столбце `'toxic'` и лишь чуть более 10% имеют оценку *1* (негативные). В столбце `'text'` находится сам текст комментария, стобец `'Unnamed: 0'` по сути содержит индекс с отличием лишь в том, что максимальный индекс имеет порядковый номер *159450*, тогда как у нас имеется лишь *159292* комментария (предположительно ряд комментариев, содержавшихся в датасере, был ранее удален). Но в нашей работе это, как и данные этого столбца значения иметь не будут.\n",
    "\n",
    "С учетом количества комментариев и предположительно необходимости некоторого времени для их обработки проведем интеграцию библиотеки **tqdm** с **pandas** для последущего мониторинга длительности работы ряда кодов. "
   ]
  },
  {
   "cell_type": "code",
   "execution_count": 3,
   "metadata": {},
   "outputs": [],
   "source": [
    "tqdm.pandas(desc=\"my bar!\")"
   ]
  },
  {
   "cell_type": "markdown",
   "metadata": {},
   "source": [
    "Для ускорения работы создадим объект **nlp** с помощью импортированой библиотеки **spacy**."
   ]
  },
  {
   "cell_type": "code",
   "execution_count": 4,
   "metadata": {},
   "outputs": [],
   "source": [
    "nlp = spacy.load(\"en_core_web_sm\")"
   ]
  },
  {
   "cell_type": "markdown",
   "metadata": {},
   "source": [
    "Создадим функцию для очистки текста."
   ]
  },
  {
   "cell_type": "code",
   "execution_count": 5,
   "metadata": {},
   "outputs": [],
   "source": [
    "def clear_text(text):\n",
    "    return \" \".join(re.sub(r'[^a-zA-Z]', ' ', text.lower()).split())"
   ]
  },
  {
   "cell_type": "markdown",
   "metadata": {},
   "source": [
    "А также функцию для лемматизации очищенного текста. "
   ]
  },
  {
   "cell_type": "code",
   "execution_count": 6,
   "metadata": {},
   "outputs": [],
   "source": [
    "def lemmatize(text):\n",
    "    global nlp\n",
    "    doc = nlp(text)\n",
    "    return \" \".join([token.lemma_ for token in doc])"
   ]
  },
  {
   "cell_type": "markdown",
   "metadata": {},
   "source": [
    "Теперь применим функции к комментариям нашего датасета, при этом для мониторина хода работы применим *progress_apply*."
   ]
  },
  {
   "cell_type": "code",
   "execution_count": 7,
   "metadata": {
    "scrolled": true
   },
   "outputs": [
    {
     "name": "stderr",
     "output_type": "stream",
     "text": [
      "my bar!: 100%|██████████| 159292/159292 [00:05<00:00, 27812.17it/s]\n"
     ]
    }
   ],
   "source": [
    "df['clear_text'] = df['text'].progress_apply(clear_text)"
   ]
  },
  {
   "cell_type": "code",
   "execution_count": 8,
   "metadata": {
    "scrolled": true
   },
   "outputs": [
    {
     "name": "stderr",
     "output_type": "stream",
     "text": [
      "my bar!: 100%|██████████| 159292/159292 [40:22<00:00, 65.75it/s] \n"
     ]
    }
   ],
   "source": [
    "df['lemmatized_text'] = df['clear_text'].progress_apply(lemmatize)"
   ]
  },
  {
   "cell_type": "code",
   "execution_count": 9,
   "metadata": {},
   "outputs": [
    {
     "name": "stdout",
     "output_type": "stream",
     "text": [
      "<class 'pandas.core.frame.DataFrame'>\n",
      "RangeIndex: 159292 entries, 0 to 159291\n",
      "Data columns (total 5 columns):\n",
      " #   Column           Non-Null Count   Dtype \n",
      "---  ------           --------------   ----- \n",
      " 0   Unnamed: 0       159292 non-null  int64 \n",
      " 1   text             159292 non-null  object\n",
      " 2   toxic            159292 non-null  int64 \n",
      " 3   clear_text       159292 non-null  object\n",
      " 4   lemmatized_text  159292 non-null  object\n",
      "dtypes: int64(2), object(3)\n",
      "memory usage: 6.1+ MB\n"
     ]
    },
    {
     "data": {
      "text/plain": [
       "None"
      ]
     },
     "metadata": {},
     "output_type": "display_data"
    },
    {
     "data": {
      "text/html": [
       "<div>\n",
       "<style scoped>\n",
       "    .dataframe tbody tr th:only-of-type {\n",
       "        vertical-align: middle;\n",
       "    }\n",
       "\n",
       "    .dataframe tbody tr th {\n",
       "        vertical-align: top;\n",
       "    }\n",
       "\n",
       "    .dataframe thead th {\n",
       "        text-align: right;\n",
       "    }\n",
       "</style>\n",
       "<table border=\"1\" class=\"dataframe\">\n",
       "  <thead>\n",
       "    <tr style=\"text-align: right;\">\n",
       "      <th></th>\n",
       "      <th>Unnamed: 0</th>\n",
       "      <th>toxic</th>\n",
       "    </tr>\n",
       "  </thead>\n",
       "  <tbody>\n",
       "    <tr>\n",
       "      <th>count</th>\n",
       "      <td>159292.000000</td>\n",
       "      <td>159292.000000</td>\n",
       "    </tr>\n",
       "    <tr>\n",
       "      <th>mean</th>\n",
       "      <td>79725.697242</td>\n",
       "      <td>0.101612</td>\n",
       "    </tr>\n",
       "    <tr>\n",
       "      <th>std</th>\n",
       "      <td>46028.837471</td>\n",
       "      <td>0.302139</td>\n",
       "    </tr>\n",
       "    <tr>\n",
       "      <th>min</th>\n",
       "      <td>0.000000</td>\n",
       "      <td>0.000000</td>\n",
       "    </tr>\n",
       "    <tr>\n",
       "      <th>25%</th>\n",
       "      <td>39872.750000</td>\n",
       "      <td>0.000000</td>\n",
       "    </tr>\n",
       "    <tr>\n",
       "      <th>50%</th>\n",
       "      <td>79721.500000</td>\n",
       "      <td>0.000000</td>\n",
       "    </tr>\n",
       "    <tr>\n",
       "      <th>75%</th>\n",
       "      <td>119573.250000</td>\n",
       "      <td>0.000000</td>\n",
       "    </tr>\n",
       "    <tr>\n",
       "      <th>max</th>\n",
       "      <td>159450.000000</td>\n",
       "      <td>1.000000</td>\n",
       "    </tr>\n",
       "  </tbody>\n",
       "</table>\n",
       "</div>"
      ],
      "text/plain": [
       "          Unnamed: 0          toxic\n",
       "count  159292.000000  159292.000000\n",
       "mean    79725.697242       0.101612\n",
       "std     46028.837471       0.302139\n",
       "min         0.000000       0.000000\n",
       "25%     39872.750000       0.000000\n",
       "50%     79721.500000       0.000000\n",
       "75%    119573.250000       0.000000\n",
       "max    159450.000000       1.000000"
      ]
     },
     "metadata": {},
     "output_type": "display_data"
    },
    {
     "data": {
      "text/html": [
       "<div>\n",
       "<style scoped>\n",
       "    .dataframe tbody tr th:only-of-type {\n",
       "        vertical-align: middle;\n",
       "    }\n",
       "\n",
       "    .dataframe tbody tr th {\n",
       "        vertical-align: top;\n",
       "    }\n",
       "\n",
       "    .dataframe thead th {\n",
       "        text-align: right;\n",
       "    }\n",
       "</style>\n",
       "<table border=\"1\" class=\"dataframe\">\n",
       "  <thead>\n",
       "    <tr style=\"text-align: right;\">\n",
       "      <th></th>\n",
       "      <th>Unnamed: 0</th>\n",
       "      <th>text</th>\n",
       "      <th>toxic</th>\n",
       "      <th>clear_text</th>\n",
       "      <th>lemmatized_text</th>\n",
       "    </tr>\n",
       "  </thead>\n",
       "  <tbody>\n",
       "    <tr>\n",
       "      <th>0</th>\n",
       "      <td>0</td>\n",
       "      <td>Explanation\\nWhy the edits made under my usern...</td>\n",
       "      <td>0</td>\n",
       "      <td>explanation why the edits made under my userna...</td>\n",
       "      <td>explanation why the edit make under my usernam...</td>\n",
       "    </tr>\n",
       "    <tr>\n",
       "      <th>1</th>\n",
       "      <td>1</td>\n",
       "      <td>D'aww! He matches this background colour I'm s...</td>\n",
       "      <td>0</td>\n",
       "      <td>d aww he matches this background colour i m se...</td>\n",
       "      <td>d aww he match this background colour I m seem...</td>\n",
       "    </tr>\n",
       "    <tr>\n",
       "      <th>2</th>\n",
       "      <td>2</td>\n",
       "      <td>Hey man, I'm really not trying to edit war. It...</td>\n",
       "      <td>0</td>\n",
       "      <td>hey man i m really not trying to edit war it s...</td>\n",
       "      <td>hey man I m really not try to edit war it s ju...</td>\n",
       "    </tr>\n",
       "    <tr>\n",
       "      <th>3</th>\n",
       "      <td>3</td>\n",
       "      <td>\"\\nMore\\nI can't make any real suggestions on ...</td>\n",
       "      <td>0</td>\n",
       "      <td>more i can t make any real suggestions on impr...</td>\n",
       "      <td>more I can t make any real suggestion on impro...</td>\n",
       "    </tr>\n",
       "    <tr>\n",
       "      <th>4</th>\n",
       "      <td>4</td>\n",
       "      <td>You, sir, are my hero. Any chance you remember...</td>\n",
       "      <td>0</td>\n",
       "      <td>you sir are my hero any chance you remember wh...</td>\n",
       "      <td>you sir be my hero any chance you remember wha...</td>\n",
       "    </tr>\n",
       "  </tbody>\n",
       "</table>\n",
       "</div>"
      ],
      "text/plain": [
       "   Unnamed: 0                                               text  toxic  \\\n",
       "0           0  Explanation\\nWhy the edits made under my usern...      0   \n",
       "1           1  D'aww! He matches this background colour I'm s...      0   \n",
       "2           2  Hey man, I'm really not trying to edit war. It...      0   \n",
       "3           3  \"\\nMore\\nI can't make any real suggestions on ...      0   \n",
       "4           4  You, sir, are my hero. Any chance you remember...      0   \n",
       "\n",
       "                                          clear_text  \\\n",
       "0  explanation why the edits made under my userna...   \n",
       "1  d aww he matches this background colour i m se...   \n",
       "2  hey man i m really not trying to edit war it s...   \n",
       "3  more i can t make any real suggestions on impr...   \n",
       "4  you sir are my hero any chance you remember wh...   \n",
       "\n",
       "                                     lemmatized_text  \n",
       "0  explanation why the edit make under my usernam...  \n",
       "1  d aww he match this background colour I m seem...  \n",
       "2  hey man I m really not try to edit war it s ju...  \n",
       "3  more I can t make any real suggestion on impro...  \n",
       "4  you sir be my hero any chance you remember wha...  "
      ]
     },
     "execution_count": 9,
     "metadata": {},
     "output_type": "execute_result"
    }
   ],
   "source": [
    "display(df.info())\n",
    "display(df.describe())\n",
    "df.head()"
   ]
  },
  {
   "cell_type": "markdown",
   "metadata": {},
   "source": [
    "Итак, мы очистили текст комментариев и провели их лемматизацию (заняла значительное количество времени).\n",
    "\n",
    "Далее разделим датасет на признаки (хотя по сути мы будем использовать лишь признак `'lemmatized_text'`) и целевой признак (`'toxic'`). А также разобьем на обучающую, валидационную и тестовую выборки в соотношении **3:1:1**. Используем TF-IDF. Также из-за размера датасета установим количество кроссвалидаций в размере *3*. "
   ]
  },
  {
   "cell_type": "code",
   "execution_count": 10,
   "metadata": {},
   "outputs": [
    {
     "name": "stderr",
     "output_type": "stream",
     "text": [
      "[nltk_data] Downloading package stopwords to\n",
      "[nltk_data]     C:\\Users\\user\\AppData\\Roaming\\nltk_data...\n",
      "[nltk_data]   Package stopwords is already up-to-date!\n"
     ]
    },
    {
     "name": "stdout",
     "output_type": "stream",
     "text": [
      "(95575, 111949)\n",
      "(31858, 111949)\n",
      "(31859, 111949)\n"
     ]
    }
   ],
   "source": [
    "target = df['toxic']\n",
    "features = df.drop(['toxic'], axis=1)\n",
    "\n",
    "features_train, features_valid, target_train, target_valid = train_test_split(features, \n",
    "                                                                              target, \n",
    "                                                                              test_size=0.4, \n",
    "                                                                              random_state=3301)\n",
    "features_valid, features_test, target_valid, target_test = train_test_split(features_valid, \n",
    "                                                                            target_valid, \n",
    "                                                                            test_size=0.5,\n",
    "                                                                            random_state=3301)\n",
    "\n",
    "nltk.download('stopwords')\n",
    "stopwords = set(stopwords.words('english'))\n",
    "\n",
    "count_tf_idf = TfidfVectorizer(stop_words=stopwords)\n",
    "\n",
    "features_train = count_tf_idf.fit_transform(features_train['lemmatized_text'])\n",
    "features_valid = count_tf_idf.transform(features_valid['lemmatized_text'])\n",
    "features_test = count_tf_idf.transform(features_test['lemmatized_text'])\n",
    "print(features_train.shape)\n",
    "print(features_valid.shape)\n",
    "print(features_test.shape)\n",
    "cv_counts = 3"
   ]
  },
  {
   "cell_type": "markdown",
   "metadata": {},
   "source": [
    "С учетом несбалансированности целевго признака, взглянем на работу условной модели на примере LogisticRegresson с несбалансированными данными и посмотрим метрику f1. "
   ]
  },
  {
   "cell_type": "code",
   "execution_count": 11,
   "metadata": {},
   "outputs": [
    {
     "name": "stdout",
     "output_type": "stream",
     "text": [
      "F1 на кроссвалидации 0.6886450687662672\n",
      "Wall time: 7.39 s\n"
     ]
    }
   ],
   "source": [
    "%%time\n",
    "\n",
    "classificator = LogisticRegression()\n",
    "train_f1 = cross_val_score(classificator, \n",
    "                      features_train, \n",
    "                      target_train, \n",
    "                      cv=cv_counts, \n",
    "                      scoring='f1').mean()\n",
    "print('F1 на кроссвалидации', train_f1)"
   ]
  },
  {
   "cell_type": "markdown",
   "metadata": {},
   "source": [
    "Как видим метрика f1 недостаточно велика. Далее посмотрим как такая же модель будет работать со сбалансированными данными (применим изменение весов классов)."
   ]
  },
  {
   "cell_type": "code",
   "execution_count": 12,
   "metadata": {},
   "outputs": [
    {
     "name": "stdout",
     "output_type": "stream",
     "text": [
      "F1 на кроссвалидации с балансированными классами 0.7436461346427876\n",
      "Wall time: 6.22 s\n"
     ]
    }
   ],
   "source": [
    "%%time\n",
    "\n",
    "classificator = LogisticRegression(class_weight='balanced')\n",
    "train_f1_balanced = cross_val_score(classificator, \n",
    "                                    features_train, \n",
    "                                    target_train, \n",
    "                                    cv=cv_counts, \n",
    "                                    scoring='f1').mean()\n",
    "print('F1 на кроссвалидации с балансированными классами', train_f1_balanced)"
   ]
  },
  {
   "cell_type": "markdown",
   "metadata": {},
   "source": [
    "Как мы видим, метрика f1 на сбалансированных классах работает лучше. Давайте посмотрим на ROC-кривую моделей с несбалансированными и сбалансированными данными."
   ]
  },
  {
   "cell_type": "code",
   "execution_count": 13,
   "metadata": {},
   "outputs": [
    {
     "data": {
      "image/png": "[encoded data removed]",
      "text/plain": [
       "<Figure size 1200x900 with 1 Axes>"
      ]
     },
     "metadata": {},
     "output_type": "display_data"
    }
   ],
   "source": [
    "plt.figure(figsize=[12,9])\n",
    "\n",
    "plt.plot([0, 1], [0, 1], linestyle='--', label='RandomModel')\n",
    "\n",
    "\n",
    "classificator = LogisticRegression()\n",
    "classificator.fit(features_train, target_train)\n",
    "probabilities_valid = classificator.predict_proba(features_valid)\n",
    "probabilities_one_valid = probabilities_valid[:, 1]\n",
    "fpr, tpr, thresholds = roc_curve(target_valid, probabilities_one_valid)\n",
    "auc_roc = roc_auc_score(target_valid, probabilities_one_valid)\n",
    "valid_f1 = f1_score(target_valid, classificator.predict(features_valid))\n",
    "plt.plot(fpr, tpr, label='LR')\n",
    "\n",
    "classificator = LogisticRegression(class_weight='balanced')\n",
    "classificator.fit(features_train, target_train)\n",
    "probabilities_valid = classificator.predict_proba(features_valid)\n",
    "probabilities_one_valid = probabilities_valid[:, 1]\n",
    "fpr, tpr, thresholds = roc_curve(target_valid, probabilities_one_valid)\n",
    "auc_roc_balanced = roc_auc_score(target_valid, probabilities_one_valid)\n",
    "valid_f1_balanced = f1_score(target_valid, classificator.predict(features_valid))\n",
    "plt.plot(fpr, tpr, label='LR balansed classes')\n",
    "\n",
    "\n",
    "plt.xlim([0,1])\n",
    "plt.ylim([0,1])\n",
    "\n",
    "plt.xlabel(\"False Positive Rate\")\n",
    "plt.ylabel(\"True Positive Rate\")\n",
    "\n",
    "plt.legend(loc='lower right', fontsize='x-large')\n",
    "\n",
    "plt.title(\"ROC-кривая\")\n",
    "plt.show()"
   ]
  },
  {
   "cell_type": "markdown",
   "metadata": {},
   "source": [
    "Также взглянем на цифровые показатели."
   ]
  },
  {
   "cell_type": "code",
   "execution_count": 14,
   "metadata": {},
   "outputs": [
    {
     "data": {
      "text/html": [
       "<div>\n",
       "<style scoped>\n",
       "    .dataframe tbody tr th:only-of-type {\n",
       "        vertical-align: middle;\n",
       "    }\n",
       "\n",
       "    .dataframe tbody tr th {\n",
       "        vertical-align: top;\n",
       "    }\n",
       "\n",
       "    .dataframe thead th {\n",
       "        text-align: right;\n",
       "    }\n",
       "</style>\n",
       "<table border=\"1\" class=\"dataframe\">\n",
       "  <thead>\n",
       "    <tr style=\"text-align: right;\">\n",
       "      <th></th>\n",
       "      <th>F1 на кроссвалидации</th>\n",
       "      <th>F1 на валидационной выборке</th>\n",
       "      <th>AUC-ROC</th>\n",
       "    </tr>\n",
       "  </thead>\n",
       "  <tbody>\n",
       "    <tr>\n",
       "      <th>LogisticRegression</th>\n",
       "      <td>0.688645</td>\n",
       "      <td>0.748534</td>\n",
       "      <td>0.972557</td>\n",
       "    </tr>\n",
       "    <tr>\n",
       "      <th>LR balansed classes</th>\n",
       "      <td>0.743646</td>\n",
       "      <td>0.754926</td>\n",
       "      <td>0.973539</td>\n",
       "    </tr>\n",
       "  </tbody>\n",
       "</table>\n",
       "</div>"
      ],
      "text/plain": [
       "                     F1 на кроссвалидации  F1 на валидационной выборке  \\\n",
       "LogisticRegression               0.688645                     0.748534   \n",
       "LR balansed classes              0.743646                     0.754926   \n",
       "\n",
       "                      AUC-ROC  \n",
       "LogisticRegression   0.972557  \n",
       "LR balansed classes  0.973539  "
      ]
     },
     "execution_count": 14,
     "metadata": {},
     "output_type": "execute_result"
    }
   ],
   "source": [
    "index = ['LogisticRegression',\n",
    "         'LR balansed classes']\n",
    "data = {'F1 на кроссвалидации':[train_f1,\n",
    "                    train_f1_balanced],\n",
    "        'F1 на валидационной выборке':[valid_f1,\n",
    "                           valid_f1_balanced],\n",
    "        'AUC-ROC':[auc_roc,\n",
    "                   auc_roc_balanced]}\n",
    "\n",
    "scores_data = pd.DataFrame(data=data, index=index)\n",
    "scores_data"
   ]
  },
  {
   "cell_type": "markdown",
   "metadata": {},
   "source": [
    "Как мы видим, показатели f1-метрики лучше при работе со сбалансрованными данными как при кроссвалидации, так и пна валидационной выборке, AUC-ROC также чуть выше по сбалансированным данным."
   ]
  },
  {
   "cell_type": "markdown",
   "metadata": {},
   "source": [
    "**Вывод:**\n",
    "В ходе преподготовки были проведены лемматизация текстов комментариев, получены признаки для обучения, датасет разделен на выборки - обучающую, валидационную и тестовую. На предварительном тестировании оптимальными показателями F1 и AUC-ROC обладает классификатор, где учтен вес классов. В дальнейшем при обучении мы будем использовать сбалансированные данные."
   ]
  },
  {
   "cell_type": "markdown",
   "metadata": {},
   "source": [
    "## Обучение"
   ]
  },
  {
   "cell_type": "markdown",
   "metadata": {},
   "source": [
    "Проведем обучение на трех моделях *LogisticRegression, DecisionTreeClassifier, SGDClassifier*."
   ]
  },
  {
   "cell_type": "markdown",
   "metadata": {},
   "source": [
    "Проведем подборку лучшх параметров модели *LogisticRegression* по метрике F1 на кроссвалидации."
   ]
  },
  {
   "cell_type": "code",
   "execution_count": 15,
   "metadata": {},
   "outputs": [
    {
     "name": "stdout",
     "output_type": "stream",
     "text": [
      "# Подборка гиперпараметров по метрике f1\n",
      "\n",
      "Лучший набор гиперпараметров:\n",
      "\n",
      "{'C': 10, 'class_weight': 'balanced', 'solver': 'lbfgs'}\n",
      "\n",
      "Сетка оценок f1:\n",
      "\n",
      "0.696010 for {'C': 0.1, 'class_weight': 'balanced', 'solver': 'newton-cg'}\n",
      "0.696037 for {'C': 0.1, 'class_weight': 'balanced', 'solver': 'lbfgs'}\n",
      "0.695858 for {'C': 0.1, 'class_weight': 'balanced', 'solver': 'liblinear'}\n",
      "0.743715 for {'C': 1, 'class_weight': 'balanced', 'solver': 'newton-cg'}\n",
      "0.743646 for {'C': 1, 'class_weight': 'balanced', 'solver': 'lbfgs'}\n",
      "0.743680 for {'C': 1, 'class_weight': 'balanced', 'solver': 'liblinear'}\n",
      "0.759056 for {'C': 10, 'class_weight': 'balanced', 'solver': 'newton-cg'}\n",
      "0.759366 for {'C': 10, 'class_weight': 'balanced', 'solver': 'lbfgs'}\n",
      "0.759032 for {'C': 10, 'class_weight': 'balanced', 'solver': 'liblinear'}\n",
      "\n",
      "Wall time: 44.5 s\n"
     ]
    }
   ],
   "source": [
    "%%time\n",
    "\n",
    "classificator = LogisticRegression()\n",
    "hyperparams = [{'solver':['newton-cg', 'lbfgs', 'liblinear'],\n",
    "                'C':[0.1, 1, 10],\n",
    "                'class_weight':['balanced']}]\n",
    "\n",
    "\n",
    "print('# Подборка гиперпараметров по метрике f1')\n",
    "print()\n",
    "clf = GridSearchCV(classificator, hyperparams, scoring='f1',cv=cv_counts)\n",
    "clf.fit(features_train, target_train)\n",
    "print(\"Лучший набор гиперпараметров:\")\n",
    "print()\n",
    "LR_best_params = clf.best_params_\n",
    "print(LR_best_params)\n",
    "print()\n",
    "print(\"Сетка оценок f1:\")\n",
    "print()\n",
    "means = clf.cv_results_['mean_test_score']\n",
    "stds = clf.cv_results_['std_test_score']\n",
    "for mean, std, params in zip(means, stds, clf.cv_results_['params']):\n",
    "    print(\"%0.6f for %r\"% (mean, params))\n",
    "print()\n",
    "\n",
    "cv_f1_LR = max(means)"
   ]
  },
  {
   "cell_type": "markdown",
   "metadata": {},
   "source": [
    "Итак, лучшим набором гиперпараметров стали `'C': 10, 'solver': 'lbfgs'`. Теперь поведем обучение модели с данными гиперпараметрами и взглянем на метрику f1 как на кроссвалидации, так и на валидационной выборке."
   ]
  },
  {
   "cell_type": "code",
   "execution_count": 16,
   "metadata": {},
   "outputs": [
    {
     "name": "stdout",
     "output_type": "stream",
     "text": [
      "F1 на кроссвалидации 0.7593664162720429\n",
      "F1 на валидационной выборке 0.7627166808752486\n",
      "Wall time: 3.31 s\n"
     ]
    }
   ],
   "source": [
    "%%time\n",
    "\n",
    "classificator = LogisticRegression()\n",
    "classificator.set_params(**LR_best_params)\n",
    "classificator.fit(features_train, target_train)\n",
    "target_predict = classificator.predict(features_valid)\n",
    "valid_f1_LR = f1_score(target_valid, target_predict)\n",
    "print('F1 на кроссвалидации', cv_f1_LR)\n",
    "print('F1 на валидационной выборке', valid_f1_LR)"
   ]
  },
  {
   "cell_type": "markdown",
   "metadata": {},
   "source": [
    " Как мы видим, показатели f1 на кроссвалидации и валидационной выборке отвечают цели проекта иметь метрику более 0,75.\n",
    " \n",
    " Теперь проведем подборку лучшх параметров модели DecisionTreeClassifier по метрике F1 на кроссвалидации."
   ]
  },
  {
   "cell_type": "code",
   "execution_count": 17,
   "metadata": {},
   "outputs": [
    {
     "name": "stdout",
     "output_type": "stream",
     "text": [
      "# Подборка гиперпараметров по метрике f1\n",
      "\n",
      "Лучший набор гиперпараметров:\n",
      "\n",
      "{'class_weight': 'balanced', 'max_depth': 34, 'random_state': 3301}\n",
      "\n",
      "Сетка оценок f1:\n",
      "\n",
      "0.628300 for {'class_weight': 'balanced', 'max_depth': 30, 'random_state': 3301}\n",
      "0.627614 for {'class_weight': 'balanced', 'max_depth': 32, 'random_state': 3301}\n",
      "0.632397 for {'class_weight': 'balanced', 'max_depth': 34, 'random_state': 3301}\n",
      "0.616270 for {'class_weight': 'balanced', 'max_depth': 36, 'random_state': 3301}\n",
      "0.617999 for {'class_weight': 'balanced', 'max_depth': 38, 'random_state': 3301}\n",
      "0.622186 for {'class_weight': 'balanced', 'max_depth': 40, 'random_state': 3301}\n",
      "0.609663 for {'class_weight': 'balanced', 'max_depth': 42, 'random_state': 3301}\n",
      "0.611388 for {'class_weight': 'balanced', 'max_depth': 44, 'random_state': 3301}\n",
      "0.613481 for {'class_weight': 'balanced', 'max_depth': 46, 'random_state': 3301}\n",
      "0.613702 for {'class_weight': 'balanced', 'max_depth': 48, 'random_state': 3301}\n",
      "0.613403 for {'class_weight': 'balanced', 'max_depth': 50, 'random_state': 3301}\n",
      "\n",
      "Wall time: 12min 48s\n"
     ]
    }
   ],
   "source": [
    "%%time\n",
    "\n",
    "classificator = DecisionTreeClassifier()\n",
    "hyperparams = [{'max_depth':[x for x in range(30,51,2)],\n",
    "                'random_state':[3301],\n",
    "                'class_weight':['balanced']}]\n",
    "\n",
    "\n",
    "print('# Подборка гиперпараметров по метрике f1')\n",
    "print()\n",
    "clf = GridSearchCV(classificator, hyperparams, scoring='f1',cv=cv_counts)\n",
    "clf.fit(features_train, target_train)\n",
    "print(\"Лучший набор гиперпараметров:\")\n",
    "print()\n",
    "DTC_best_params = clf.best_params_\n",
    "print(DTC_best_params)\n",
    "print()\n",
    "print(\"Сетка оценок f1:\")\n",
    "print()\n",
    "means = clf.cv_results_['mean_test_score']\n",
    "stds = clf.cv_results_['std_test_score']\n",
    "for mean, std, params in zip(means, stds, clf.cv_results_['params']):\n",
    "    print(\"%0.6f for %r\"% (mean, params))\n",
    "print()\n",
    "\n",
    "cv_f1_DTC = max(means)"
   ]
  },
  {
   "cell_type": "markdown",
   "metadata": {},
   "source": [
    "Лучшим гиперпараметром дерева стала его глубина *34*. Проведем обучение данной модели с этим гиперпараметром и посмотрим на метрику f1 на кроссвалидации и валидационной выборке."
   ]
  },
  {
   "cell_type": "code",
   "execution_count": 18,
   "metadata": {},
   "outputs": [
    {
     "name": "stdout",
     "output_type": "stream",
     "text": [
      "F1 на кроссвалидации 0.6323966641713705\n",
      "F1 на валидационной выборке 0.652968775279081\n",
      "Wall time: 23 s\n"
     ]
    }
   ],
   "source": [
    "%%time\n",
    "\n",
    "classificator = DecisionTreeClassifier()\n",
    "classificator.set_params(**DTC_best_params)\n",
    "classificator.fit(features_train, target_train)\n",
    "target_predict = classificator.predict(features_valid)\n",
    "valid_f1_DTC = f1_score(target_valid, target_predict)\n",
    "print('F1 на кроссвалидации', cv_f1_DTC)\n",
    "print('F1 на валидационной выборке', valid_f1_DTC)"
   ]
  },
  {
   "cell_type": "markdown",
   "metadata": {},
   "source": [
    "Как мы видим, данная модель не дает нам метрики f1 нужного качества.\n",
    "\n",
    "Теперь подберем лучшие параметры на кроссвалидации для модели SGDClassifier."
   ]
  },
  {
   "cell_type": "code",
   "execution_count": 19,
   "metadata": {
    "scrolled": true
   },
   "outputs": [
    {
     "name": "stdout",
     "output_type": "stream",
     "text": [
      "# Подборка гиперпараметров по метрике f1\n",
      "\n",
      "Лучший набор гиперпараметров:\n",
      "\n",
      "{'class_weight': 'balanced', 'eta0': 0.3, 'learning_rate': 'adaptive', 'loss': 'modified_huber', 'random_state': 3301}\n",
      "\n",
      "Сетка оценок f1:\n",
      "\n",
      "0.729753 for {'class_weight': 'balanced', 'eta0': 0.01, 'learning_rate': 'constant', 'loss': 'hinge', 'random_state': 3301}\n",
      "0.701867 for {'class_weight': 'balanced', 'eta0': 0.01, 'learning_rate': 'constant', 'loss': 'log', 'random_state': 3301}\n",
      "0.748898 for {'class_weight': 'balanced', 'eta0': 0.01, 'learning_rate': 'constant', 'loss': 'modified_huber', 'random_state': 3301}\n",
      "0.732931 for {'class_weight': 'balanced', 'eta0': 0.01, 'learning_rate': 'optimal', 'loss': 'hinge', 'random_state': 3301}\n",
      "0.704473 for {'class_weight': 'balanced', 'eta0': 0.01, 'learning_rate': 'optimal', 'loss': 'log', 'random_state': 3301}\n",
      "0.750950 for {'class_weight': 'balanced', 'eta0': 0.01, 'learning_rate': 'optimal', 'loss': 'modified_huber', 'random_state': 3301}\n",
      "0.651516 for {'class_weight': 'balanced', 'eta0': 0.01, 'learning_rate': 'invscaling', 'loss': 'hinge', 'random_state': 3301}\n",
      "0.650853 for {'class_weight': 'balanced', 'eta0': 0.01, 'learning_rate': 'invscaling', 'loss': 'log', 'random_state': 3301}\n",
      "0.658303 for {'class_weight': 'balanced', 'eta0': 0.01, 'learning_rate': 'invscaling', 'loss': 'modified_huber', 'random_state': 3301}\n",
      "0.731725 for {'class_weight': 'balanced', 'eta0': 0.01, 'learning_rate': 'adaptive', 'loss': 'hinge', 'random_state': 3301}\n",
      "0.702021 for {'class_weight': 'balanced', 'eta0': 0.01, 'learning_rate': 'adaptive', 'loss': 'log', 'random_state': 3301}\n",
      "0.750821 for {'class_weight': 'balanced', 'eta0': 0.01, 'learning_rate': 'adaptive', 'loss': 'modified_huber', 'random_state': 3301}\n",
      "0.728731 for {'class_weight': 'balanced', 'eta0': 0.05, 'learning_rate': 'constant', 'loss': 'hinge', 'random_state': 3301}\n",
      "0.703256 for {'class_weight': 'balanced', 'eta0': 0.05, 'learning_rate': 'constant', 'loss': 'log', 'random_state': 3301}\n",
      "0.728247 for {'class_weight': 'balanced', 'eta0': 0.05, 'learning_rate': 'constant', 'loss': 'modified_huber', 'random_state': 3301}\n",
      "0.732931 for {'class_weight': 'balanced', 'eta0': 0.05, 'learning_rate': 'optimal', 'loss': 'hinge', 'random_state': 3301}\n",
      "0.704473 for {'class_weight': 'balanced', 'eta0': 0.05, 'learning_rate': 'optimal', 'loss': 'log', 'random_state': 3301}\n",
      "0.750950 for {'class_weight': 'balanced', 'eta0': 0.05, 'learning_rate': 'optimal', 'loss': 'modified_huber', 'random_state': 3301}\n",
      "0.685128 for {'class_weight': 'balanced', 'eta0': 0.05, 'learning_rate': 'invscaling', 'loss': 'hinge', 'random_state': 3301}\n",
      "0.656693 for {'class_weight': 'balanced', 'eta0': 0.05, 'learning_rate': 'invscaling', 'loss': 'log', 'random_state': 3301}\n",
      "0.656596 for {'class_weight': 'balanced', 'eta0': 0.05, 'learning_rate': 'invscaling', 'loss': 'modified_huber', 'random_state': 3301}\n",
      "0.733725 for {'class_weight': 'balanced', 'eta0': 0.05, 'learning_rate': 'adaptive', 'loss': 'hinge', 'random_state': 3301}\n",
      "0.705920 for {'class_weight': 'balanced', 'eta0': 0.05, 'learning_rate': 'adaptive', 'loss': 'log', 'random_state': 3301}\n",
      "0.751906 for {'class_weight': 'balanced', 'eta0': 0.05, 'learning_rate': 'adaptive', 'loss': 'modified_huber', 'random_state': 3301}\n",
      "0.713500 for {'class_weight': 'balanced', 'eta0': 0.1, 'learning_rate': 'constant', 'loss': 'hinge', 'random_state': 3301}\n",
      "0.685816 for {'class_weight': 'balanced', 'eta0': 0.1, 'learning_rate': 'constant', 'loss': 'log', 'random_state': 3301}\n",
      "0.697708 for {'class_weight': 'balanced', 'eta0': 0.1, 'learning_rate': 'constant', 'loss': 'modified_huber', 'random_state': 3301}\n",
      "0.732931 for {'class_weight': 'balanced', 'eta0': 0.1, 'learning_rate': 'optimal', 'loss': 'hinge', 'random_state': 3301}\n",
      "0.704473 for {'class_weight': 'balanced', 'eta0': 0.1, 'learning_rate': 'optimal', 'loss': 'log', 'random_state': 3301}\n",
      "0.750950 for {'class_weight': 'balanced', 'eta0': 0.1, 'learning_rate': 'optimal', 'loss': 'modified_huber', 'random_state': 3301}\n",
      "0.681714 for {'class_weight': 'balanced', 'eta0': 0.1, 'learning_rate': 'invscaling', 'loss': 'hinge', 'random_state': 3301}\n",
      "0.655722 for {'class_weight': 'balanced', 'eta0': 0.1, 'learning_rate': 'invscaling', 'loss': 'log', 'random_state': 3301}\n",
      "0.669324 for {'class_weight': 'balanced', 'eta0': 0.1, 'learning_rate': 'invscaling', 'loss': 'modified_huber', 'random_state': 3301}\n",
      "0.733007 for {'class_weight': 'balanced', 'eta0': 0.1, 'learning_rate': 'adaptive', 'loss': 'hinge', 'random_state': 3301}\n",
      "0.705380 for {'class_weight': 'balanced', 'eta0': 0.1, 'learning_rate': 'adaptive', 'loss': 'log', 'random_state': 3301}\n",
      "0.752100 for {'class_weight': 'balanced', 'eta0': 0.1, 'learning_rate': 'adaptive', 'loss': 'modified_huber', 'random_state': 3301}\n",
      "0.698489 for {'class_weight': 'balanced', 'eta0': 0.2, 'learning_rate': 'constant', 'loss': 'hinge', 'random_state': 3301}\n",
      "0.675409 for {'class_weight': 'balanced', 'eta0': 0.2, 'learning_rate': 'constant', 'loss': 'log', 'random_state': 3301}\n",
      "0.644698 for {'class_weight': 'balanced', 'eta0': 0.2, 'learning_rate': 'constant', 'loss': 'modified_huber', 'random_state': 3301}\n",
      "0.732931 for {'class_weight': 'balanced', 'eta0': 0.2, 'learning_rate': 'optimal', 'loss': 'hinge', 'random_state': 3301}\n",
      "0.704473 for {'class_weight': 'balanced', 'eta0': 0.2, 'learning_rate': 'optimal', 'loss': 'log', 'random_state': 3301}\n",
      "0.750950 for {'class_weight': 'balanced', 'eta0': 0.2, 'learning_rate': 'optimal', 'loss': 'modified_huber', 'random_state': 3301}\n",
      "0.673757 for {'class_weight': 'balanced', 'eta0': 0.2, 'learning_rate': 'invscaling', 'loss': 'hinge', 'random_state': 3301}\n",
      "0.651593 for {'class_weight': 'balanced', 'eta0': 0.2, 'learning_rate': 'invscaling', 'loss': 'log', 'random_state': 3301}\n",
      "0.688284 for {'class_weight': 'balanced', 'eta0': 0.2, 'learning_rate': 'invscaling', 'loss': 'modified_huber', 'random_state': 3301}\n",
      "0.733156 for {'class_weight': 'balanced', 'eta0': 0.2, 'learning_rate': 'adaptive', 'loss': 'hinge', 'random_state': 3301}\n",
      "0.705343 for {'class_weight': 'balanced', 'eta0': 0.2, 'learning_rate': 'adaptive', 'loss': 'log', 'random_state': 3301}\n",
      "0.752232 for {'class_weight': 'balanced', 'eta0': 0.2, 'learning_rate': 'adaptive', 'loss': 'modified_huber', 'random_state': 3301}\n",
      "0.686840 for {'class_weight': 'balanced', 'eta0': 0.3, 'learning_rate': 'constant', 'loss': 'hinge', 'random_state': 3301}\n",
      "0.688011 for {'class_weight': 'balanced', 'eta0': 0.3, 'learning_rate': 'constant', 'loss': 'log', 'random_state': 3301}\n",
      "0.586473 for {'class_weight': 'balanced', 'eta0': 0.3, 'learning_rate': 'constant', 'loss': 'modified_huber', 'random_state': 3301}\n",
      "0.732931 for {'class_weight': 'balanced', 'eta0': 0.3, 'learning_rate': 'optimal', 'loss': 'hinge', 'random_state': 3301}\n",
      "0.704473 for {'class_weight': 'balanced', 'eta0': 0.3, 'learning_rate': 'optimal', 'loss': 'log', 'random_state': 3301}\n",
      "0.750950 for {'class_weight': 'balanced', 'eta0': 0.3, 'learning_rate': 'optimal', 'loss': 'modified_huber', 'random_state': 3301}\n",
      "0.676476 for {'class_weight': 'balanced', 'eta0': 0.3, 'learning_rate': 'invscaling', 'loss': 'hinge', 'random_state': 3301}\n",
      "0.651135 for {'class_weight': 'balanced', 'eta0': 0.3, 'learning_rate': 'invscaling', 'loss': 'log', 'random_state': 3301}\n",
      "0.701869 for {'class_weight': 'balanced', 'eta0': 0.3, 'learning_rate': 'invscaling', 'loss': 'modified_huber', 'random_state': 3301}\n",
      "0.733267 for {'class_weight': 'balanced', 'eta0': 0.3, 'learning_rate': 'adaptive', 'loss': 'hinge', 'random_state': 3301}\n",
      "0.705780 for {'class_weight': 'balanced', 'eta0': 0.3, 'learning_rate': 'adaptive', 'loss': 'log', 'random_state': 3301}\n",
      "0.752392 for {'class_weight': 'balanced', 'eta0': 0.3, 'learning_rate': 'adaptive', 'loss': 'modified_huber', 'random_state': 3301}\n",
      "0.663977 for {'class_weight': 'balanced', 'eta0': 0.5, 'learning_rate': 'constant', 'loss': 'hinge', 'random_state': 3301}\n",
      "0.678249 for {'class_weight': 'balanced', 'eta0': 0.5, 'learning_rate': 'constant', 'loss': 'log', 'random_state': 3301}\n",
      "0.564519 for {'class_weight': 'balanced', 'eta0': 0.5, 'learning_rate': 'constant', 'loss': 'modified_huber', 'random_state': 3301}\n",
      "0.732931 for {'class_weight': 'balanced', 'eta0': 0.5, 'learning_rate': 'optimal', 'loss': 'hinge', 'random_state': 3301}\n",
      "0.704473 for {'class_weight': 'balanced', 'eta0': 0.5, 'learning_rate': 'optimal', 'loss': 'log', 'random_state': 3301}\n",
      "0.750950 for {'class_weight': 'balanced', 'eta0': 0.5, 'learning_rate': 'optimal', 'loss': 'modified_huber', 'random_state': 3301}\n",
      "0.685120 for {'class_weight': 'balanced', 'eta0': 0.5, 'learning_rate': 'invscaling', 'loss': 'hinge', 'random_state': 3301}\n",
      "0.651852 for {'class_weight': 'balanced', 'eta0': 0.5, 'learning_rate': 'invscaling', 'loss': 'log', 'random_state': 3301}\n",
      "0.720400 for {'class_weight': 'balanced', 'eta0': 0.5, 'learning_rate': 'invscaling', 'loss': 'modified_huber', 'random_state': 3301}\n",
      "0.733369 for {'class_weight': 'balanced', 'eta0': 0.5, 'learning_rate': 'adaptive', 'loss': 'hinge', 'random_state': 3301}\n",
      "0.705809 for {'class_weight': 'balanced', 'eta0': 0.5, 'learning_rate': 'adaptive', 'loss': 'log', 'random_state': 3301}\n",
      "0.751846 for {'class_weight': 'balanced', 'eta0': 0.5, 'learning_rate': 'adaptive', 'loss': 'modified_huber', 'random_state': 3301}\n",
      "\n",
      "Wall time: 3min 22s\n"
     ]
    }
   ],
   "source": [
    "%%time\n",
    "\n",
    "classificator = SGDClassifier()\n",
    "hyperparams = [{'loss':['hinge', 'log', 'modified_huber'],\n",
    "                'learning_rate':['constant', 'optimal', 'invscaling', 'adaptive'],\n",
    "                'eta0':[0.01, 0.05, 0.1, 0.2, 0.3, 0.5],\n",
    "                'random_state':[3301],\n",
    "                'class_weight':['balanced']}]\n",
    "\n",
    "\n",
    "print('# Подборка гиперпараметров по метрике f1')\n",
    "print()\n",
    "clf = GridSearchCV(classificator, hyperparams, scoring='f1',cv=cv_counts)\n",
    "clf.fit(features_train, target_train)\n",
    "print(\"Лучший набор гиперпараметров:\")\n",
    "print()\n",
    "SGDC_best_params = clf.best_params_\n",
    "print(SGDC_best_params)\n",
    "print()\n",
    "print(\"Сетка оценок f1:\")\n",
    "print()\n",
    "means = clf.cv_results_['mean_test_score']\n",
    "stds = clf.cv_results_['std_test_score']\n",
    "for mean, std, params in zip(means, stds, clf.cv_results_['params']):\n",
    "    print(\"%0.6f for %r\"% (mean, params))\n",
    "print()\n",
    "\n",
    "cv_f1_SGDC = max(means)"
   ]
  },
  {
   "cell_type": "markdown",
   "metadata": {},
   "source": [
    "Лучшими параметрами модели стали *'eta0': 0.3, 'learning_rate': 'adaptive', 'loss': 'modified_huber'*. Обучим модель при данных параметрах и взгялнем на метрику f1 (в том числе на валидационной выборке)."
   ]
  },
  {
   "cell_type": "code",
   "execution_count": 20,
   "metadata": {},
   "outputs": [
    {
     "name": "stdout",
     "output_type": "stream",
     "text": [
      "F1 на кроссвалидации 0.7523921500293165\n",
      "F1 на валидациионной выборке 0.7576374745417515\n",
      "Wall time: 1.95 s\n"
     ]
    }
   ],
   "source": [
    "%%time\n",
    "\n",
    "classificator = SGDClassifier()\n",
    "classificator.set_params(**SGDC_best_params)\n",
    "classificator.fit(features_train, target_train)\n",
    "target_predict = classificator.predict(features_valid)\n",
    "valid_f1_SGDC = f1_score(target_valid, target_predict)\n",
    "print('F1 на кроссвалидации', cv_f1_SGDC)\n",
    "print('F1 на валидациионной выборке', valid_f1_SGDC)"
   ]
  },
  {
   "cell_type": "markdown",
   "metadata": {},
   "source": [
    "Мы видим, что модель SGDClassifier также дала приемлимые для цели проекта результаты. Но давайте сравним полученные значения метрики f1 обученных нами моделей, чтобы выбрать лучшую."
   ]
  },
  {
   "cell_type": "code",
   "execution_count": 21,
   "metadata": {},
   "outputs": [
    {
     "data": {
      "text/html": [
       "<div>\n",
       "<style scoped>\n",
       "    .dataframe tbody tr th:only-of-type {\n",
       "        vertical-align: middle;\n",
       "    }\n",
       "\n",
       "    .dataframe tbody tr th {\n",
       "        vertical-align: top;\n",
       "    }\n",
       "\n",
       "    .dataframe thead th {\n",
       "        text-align: right;\n",
       "    }\n",
       "</style>\n",
       "<table border=\"1\" class=\"dataframe\">\n",
       "  <thead>\n",
       "    <tr style=\"text-align: right;\">\n",
       "      <th></th>\n",
       "      <th>F1 на кроссвалидации</th>\n",
       "      <th>F1 на валидационной выборке</th>\n",
       "      <th>Выполнение задачи</th>\n",
       "    </tr>\n",
       "  </thead>\n",
       "  <tbody>\n",
       "    <tr>\n",
       "      <th>LogisticRegression</th>\n",
       "      <td>0.759366</td>\n",
       "      <td>0.762717</td>\n",
       "      <td>True</td>\n",
       "    </tr>\n",
       "    <tr>\n",
       "      <th>DecisionTreeClassifier</th>\n",
       "      <td>0.632397</td>\n",
       "      <td>0.652969</td>\n",
       "      <td>False</td>\n",
       "    </tr>\n",
       "    <tr>\n",
       "      <th>SGDClassifier</th>\n",
       "      <td>0.752392</td>\n",
       "      <td>0.757637</td>\n",
       "      <td>True</td>\n",
       "    </tr>\n",
       "  </tbody>\n",
       "</table>\n",
       "</div>"
      ],
      "text/plain": [
       "                        F1 на кроссвалидации  F1 на валидационной выборке  \\\n",
       "LogisticRegression                  0.759366                     0.762717   \n",
       "DecisionTreeClassifier              0.632397                     0.652969   \n",
       "SGDClassifier                       0.752392                     0.757637   \n",
       "\n",
       "                        Выполнение задачи  \n",
       "LogisticRegression                   True  \n",
       "DecisionTreeClassifier              False  \n",
       "SGDClassifier                        True  "
      ]
     },
     "execution_count": 21,
     "metadata": {},
     "output_type": "execute_result"
    }
   ],
   "source": [
    "index = ['LogisticRegression',\n",
    "         'DecisionTreeClassifier',\n",
    "         'SGDClassifier']\n",
    "data = {'F1 на кроссвалидации':[cv_f1_LR,\n",
    "                    cv_f1_DTC,\n",
    "                    cv_f1_SGDC],\n",
    "        'F1 на валидационной выборке':[valid_f1_LR,\n",
    "                           valid_f1_DTC,\n",
    "                           valid_f1_SGDC]}\n",
    "\n",
    "scores_data = pd.DataFrame(data=data, index=index)\n",
    "scores_data['Выполнение задачи'] = scores_data['F1 на валидационной выборке'] > 0.75\n",
    "scores_data"
   ]
  },
  {
   "cell_type": "markdown",
   "metadata": {},
   "source": [
    "Как мы видим, лучшие показатели метрики F1 дала модель LogisticRegression как на кроссвалидации, так и на валидационной выборке. В дальнейшем проверим именно эту модель на тестовой выборке и сделаем выводы. "
   ]
  },
  {
   "cell_type": "markdown",
   "metadata": {},
   "source": [
    "**Вывод:**\n",
    "Лучшие показатели метрики F1 дала модель LogisticRegression как на кроссвалидации *(f1 = 0.759366)*, так и на валидационной выборке *(f1 = 0.762717)*.\n"
   ]
  },
  {
   "cell_type": "markdown",
   "metadata": {},
   "source": [
    "## Выводы"
   ]
  },
  {
   "cell_type": "markdown",
   "metadata": {},
   "source": [
    "Проверим лучшую модель по результатам обучения на тестовой выборке, а также взглянем на показатель метрики f1 и на другие метрики."
   ]
  },
  {
   "cell_type": "code",
   "execution_count": 22,
   "metadata": {
    "scrolled": true
   },
   "outputs": [
    {
     "name": "stdout",
     "output_type": "stream",
     "text": [
      "Метрики LogisticRegression\n",
      "F1: 0.7666666666666665\n",
      "Precision: 0.7143239625167336\n",
      "Recall: 0.8272868217054263\n",
      "Accuracy: 0.9490253931385166\n",
      "ROC AUC: 0.9659006829307382\n",
      "\n"
     ]
    },
    {
     "data": {
      "image/png": "[encoded data removed]",
      "text/plain": [
       "<Figure size 1200x900 with 1 Axes>"
      ]
     },
     "metadata": {},
     "output_type": "display_data"
    }
   ],
   "source": [
    "plt.figure(figsize=[12,9])\n",
    "\n",
    "plt.plot([0, 1], [0, 1], linestyle='--', label='RandomModel')\n",
    "\n",
    "\n",
    "classificator = LogisticRegression()\n",
    "classificator.set_params(**LR_best_params)\n",
    "classificator.fit(features_train, target_train)\n",
    "probabilities_test = classificator.predict_proba(features_test)\n",
    "probabilities_one_test = probabilities_test[:, 1]\n",
    "fpr, tpr, thresholds = roc_curve(target_test, probabilities_one_test)\n",
    "predict_test = classificator.predict(features_test)\n",
    "plt.plot(fpr, tpr, label='LogisticRegression')\n",
    "print('Метрики LogisticRegression')\n",
    "print('F1:', f1_score(target_test, predict_test))\n",
    "print('Precision:', precision_score(target_test, predict_test))\n",
    "print('Recall:', recall_score(target_test, predict_test))\n",
    "print('Accuracy:', accuracy_score(target_test, predict_test))\n",
    "print('ROC AUC:', roc_auc_score(target_test, probabilities_one_test))\n",
    "print()\n",
    "\n",
    "plt.xlim([0,1])\n",
    "plt.ylim([0,1])\n",
    "\n",
    "plt.xlabel(\"False Positive Rate\")\n",
    "plt.ylabel(\"True Positive Rate\")\n",
    "\n",
    "plt.legend(loc='lower right', fontsize='x-large')\n",
    "\n",
    "plt.title(\"ROC-кривая\")\n",
    "plt.show()"
   ]
  },
  {
   "cell_type": "markdown",
   "metadata": {},
   "source": [
    "**Вывод:** Модель LogisticRegression показала небходимый результат на тестовой выборке."
   ]
  },
  {
   "cell_type": "markdown",
   "metadata": {},
   "source": [
    "**Общие выводы:**\n",
    "\n",
    "В ходе работы над проектом было сделано:\n",
    "\n",
    "- Подготовленны данные для обучения на моделях (лемматизация).\n",
    "- Определена необходимость балансировки классов.\n",
    "- Датасет поделен на обучающую, валидационную и тестовою выборку.\n",
    "- Обучены модели и выбрана лучшая из них на валидационной выборке.\n",
    "- Проведена проверка выбранной лучшей модели на тестовой выборке и определены ряд ее показателей, в том числе f1.\n",
    "\n",
    "Лучшией моделю стала LogisticRegression. На тестовой выбоке по метрике F1 модель LogisticRegression показала результат *0.7666666666666665*. Цель достигнута. Данная модель обладает достаточно большим показателем Accuracy, что говорит, что модель хорошо находит токсичные комментарии."
   ]
  }
 ],
 "metadata": {
  "kernelspec": {
   "display_name": "Python 3 (ipykernel)",
   "language": "python",
   "name": "python3"
  },
  "language_info": {
   "codemirror_mode": {
    "name": "ipython",
    "version": 3
   },
   "file_extension": ".py",
   "mimetype": "text/x-python",
   "name": "python",
   "nbconvert_exporter": "python",
   "pygments_lexer": "ipython3",
   "version": "3.11.5"
  },
  "toc": {
   "base_numbering": 1,
   "nav_menu": {
    "height": "103.99px",
    "width": "413.99px"
   },
   "number_sections": true,
   "sideBar": true,
   "skip_h1_title": true,
   "title_cell": "Содержание",
   "title_sidebar": "Contents",
   "toc_cell": true,
   "toc_position": {
    "height": "calc(100% - 180px)",
    "left": "10px",
    "top": "150px",
    "width": "302.391px"
   },
   "toc_section_display": true,
   "toc_window_display": false
  }
 },
 "nbformat": 4,
 "nbformat_minor": 2
}
